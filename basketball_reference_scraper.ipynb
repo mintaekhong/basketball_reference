{
 "cells": [
  {
   "cell_type": "code",
   "execution_count": 1,
   "metadata": {},
   "outputs": [],
   "source": [
    "import requests\n",
    "from bs4 import BeautifulSoup\n",
    "import csv\n",
    "import pandas as pd"
   ]
  },
  {
   "cell_type": "code",
   "execution_count": 2,
   "metadata": {},
   "outputs": [],
   "source": [
    "#a list of URLs for each player in the NBA, and we want to scrape the per game stats for each player\n",
    "#we want to create a function that takes in a URL and returns a dataframe of the per game stats for that player\n",
    "def get_per_game_stats(link):\n",
    "    res = requests.get(link)\n",
    "    #the code that could potentially have an error is put in a try clause; the program execution moves to the start of a following except clause if an error happens\n",
    "    try:\n",
    "        res.raise_for_status()\n",
    "    except Exception as exc:\n",
    "        print('There was a problem: %s' % (exc))\n",
    "    soup = BeautifulSoup(res.content, 'html.parser')\n",
    "    per_game_stats = soup.find('table', class_ = 'stats_table', id = 'per_game')\n",
    "    #find_all() method returns a list of Tag objects, which is how Beautiful Soup represents an HTML element\n",
    "    per_game_stats_labels = per_game_stats.find('tr', class_ = 'full_table').find_all('td')\n",
    "    per_game_stats_labels_list = []\n",
    "    for i in per_game_stats_labels:\n",
    "        per_game_stats_labels_list.append(i['data-stat'])\n",
    "    per_game_stats_list = []\n",
    "    per_game_stats_rows = per_game_stats.find_all('tr', class_ = 'full_table')\n",
    "    for i in per_game_stats_rows:\n",
    "        per_game_stats_row = i.find_all('td')\n",
    "        per_game_stats_row_list = []\n",
    "        for j in per_game_stats_row:\n",
    "            per_game_stats_row_list.append(j.text)\n",
    "        per_game_stats_list.append(per_game_stats_row_list)\n",
    "    #grab seasons_list\n",
    "    seasons_list = []\n",
    "    for i in per_game_stats_rows:\n",
    "        seasons_list.append(i.find('th').text)\n",
    "    #per_game_stats_list.insert(0, seasons_list)\n",
    "    seasons_list = [*set(seasons_list)]\n",
    "    seasons_list.sort()\n",
    "    #grab player_name\n",
    "    player_name = soup.find('h1').text.strip()\n",
    "    #create dataframe\n",
    "    df = pd.DataFrame(per_game_stats_list, columns = per_game_stats_labels_list)\n",
    "    df.insert(0, 'Season', seasons_list)\n",
    "    df.insert(1, 'Player', player_name)\n",
    "    return df\n"
   ]
  },
  {
   "cell_type": "code",
   "execution_count": 3,
   "metadata": {},
   "outputs": [],
   "source": [
    "#create function to grab stats from multiple URLs\n",
    "def get_per_game_stats_multiple_links(links):\n",
    "    df_list = []\n",
    "    for i in links:\n",
    "        df_list.append(get_per_game_stats(i))\n",
    "    df = pd.concat(df_list)\n",
    "    return df"
   ]
  },
  {
   "cell_type": "code",
   "execution_count": 9,
   "metadata": {},
   "outputs": [],
   "source": [
    "get_per_game_stats_multiple_links(['https://www.basketball-reference.com/players/j/jamesle01.html'\n",
    "                                  ,'https://www.basketball-reference.com/players/b/bryanko01.html'\n",
    "                                  ,'https://www.basketball-reference.com/players/d/duranke01.html'\n",
    "                                  ,'https://www.basketball-reference.com/players/c/curryst01.html'     \n",
    "                                  ,'https://www.basketball-reference.com/players/h/hardeja01.html'\n",
    "                                  ,'https://www.basketball-reference.com/players/w/westbru01.html'\n",
    "                                  ,'https://www.basketball-reference.com/players/a/antetgi01.html'\n",
    "                                  ,'https://www.basketball-reference.com/players/l/lillada01.html'\n",
    "                                  ,'https://www.basketball-reference.com/players/g/goberru01.html'\n",
    "                                  ,'https://www.basketball-reference.com/players/g/georgpa01.html'\n",
    "                                  ,'https://www.basketball-reference.com/players/d/davisan02.html'\n",
    "                                  ,'https://www.basketball-reference.com/players/l/lowryky01.html'\n",
    "                                  ,'https://www.basketball-reference.com/players/g/griffbl01.html'\n",
    "                                  ,'https://www.basketball-reference.com/players/p/paulch01.html'\n",
    "                                  ,'https://www.basketball-reference.com/players/b/bookede01.html'                                                               \n",
    "                                   ]).to_csv('basketball_reference.csv', index=False)"
   ]
  }
 ],
 "metadata": {
  "kernelspec": {
   "display_name": "Python 3",
   "language": "python",
   "name": "python3"
  },
  "language_info": {
   "codemirror_mode": {
    "name": "ipython",
    "version": 3
   },
   "file_extension": ".py",
   "mimetype": "text/x-python",
   "name": "python",
   "nbconvert_exporter": "python",
   "pygments_lexer": "ipython3",
   "version": "3.11.3"
  },
  "orig_nbformat": 4
 },
 "nbformat": 4,
 "nbformat_minor": 2
}
